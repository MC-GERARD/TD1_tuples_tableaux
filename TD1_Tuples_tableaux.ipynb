{
 "cells": [
  {
   "cell_type": "markdown",
   "metadata": {},
   "source": [
    "# TD1 : Tuples et tableaux"
   ]
  },
  {
   "cell_type": "markdown",
   "metadata": {},
   "source": [
    "<b><u>Exercice 1</u></b> : Vrai ou Faux. Justifier votre réponse."
   ]
  },
  {
   "cell_type": "markdown",
   "metadata": {},
   "source": [
    "1. Le tuple (1, 2, (3,4), 5) a pour longueur 5."
   ]
  },
  {
   "cell_type": "raw",
   "metadata": {},
   "source": []
  },
  {
   "cell_type": "code",
   "execution_count": null,
   "metadata": {},
   "outputs": [],
   "source": []
  },
  {
   "cell_type": "markdown",
   "metadata": {},
   "source": [
    "2.  Si t =’a’, ‘d’, ‘c’, l’instruction t[1]=’b’ renvoie une erreur."
   ]
  },
  {
   "cell_type": "raw",
   "metadata": {},
   "source": []
  },
  {
   "cell_type": "code",
   "execution_count": null,
   "metadata": {},
   "outputs": [],
   "source": []
  },
  {
   "cell_type": "markdown",
   "metadata": {},
   "source": [
    "3.  L’expression 3* (1,2) a pour valeur (3,6)."
   ]
  },
  {
   "cell_type": "raw",
   "metadata": {},
   "source": []
  },
  {
   "cell_type": "code",
   "execution_count": null,
   "metadata": {},
   "outputs": [],
   "source": []
  },
  {
   "cell_type": "markdown",
   "metadata": {},
   "source": [
    "4.  Soit tab le tableau [1,2,3]. Après l’instruction tab.append([4,5]), le tableau tab a pour valeur [1, 2, 3, 4, 5].\n"
   ]
  },
  {
   "cell_type": "raw",
   "metadata": {},
   "source": []
  },
  {
   "cell_type": "code",
   "execution_count": null,
   "metadata": {},
   "outputs": [],
   "source": []
  },
  {
   "cell_type": "markdown",
   "metadata": {},
   "source": [
    "5. Soit L=[3*x for  x in [1, 2, 3]  if x%2]. Le tableau L a pour valeur [3,9]."
   ]
  },
  {
   "cell_type": "raw",
   "metadata": {},
   "source": []
  },
  {
   "cell_type": "code",
   "execution_count": null,
   "metadata": {},
   "outputs": [],
   "source": []
  },
  {
   "cell_type": "markdown",
   "metadata": {},
   "source": [
    "6.  Soit nbres un tableau de nombres. Pour modifier le dernier élément, on écrit nbres[len(nbres)]=………\n"
   ]
  },
  {
   "cell_type": "raw",
   "metadata": {},
   "source": []
  },
  {
   "cell_type": "code",
   "execution_count": null,
   "metadata": {},
   "outputs": [],
   "source": []
  },
  {
   "cell_type": "markdown",
   "metadata": {},
   "source": [
    "<b><u>Exercice 2</u></b> : QCM"
   ]
  },
  {
   "cell_type": "markdown",
   "metadata": {},
   "source": [
    "1. On considère le tuple t = (2,9,5,3). Qu’obtient-on après l’instruction t[1] = 4 ?\n",
    "\n",
    "a. La valeur de t est t = (4,9,5,3)                     \n",
    "\n",
    "b.  Une erreur   \n",
    "\n",
    "c. La valeur de t est t = (2,4,5,3)                    \n",
    "\n",
    "d. La valeur de t est t = (2,9,5,4)"
   ]
  },
  {
   "cell_type": "raw",
   "metadata": {},
   "source": []
  },
  {
   "cell_type": "code",
   "execution_count": null,
   "metadata": {},
   "outputs": [],
   "source": []
  },
  {
   "cell_type": "markdown",
   "metadata": {},
   "source": [
    "2. On dispose d’un tableau L= [5,4,7]. Après l’instruction L[2]=9, le tableau a pour valeur :\n",
    "\n",
    "   a. L=[5, 9,7]              \n",
    "   b. L=[5, 4, 9, 7]                \n",
    "   c. L=[5,4,7,9]              \n",
    "   d. L=[5,4,9]"
   ]
  },
  {
   "cell_type": "raw",
   "metadata": {},
   "source": []
  },
  {
   "cell_type": "code",
   "execution_count": null,
   "metadata": {},
   "outputs": [],
   "source": []
  },
  {
   "cell_type": "markdown",
   "metadata": {},
   "source": [
    "4. On considère le tableau construit en compréhension défini par : L=[2*for i in range(5)]. La valeur de L est :\n",
    "\n",
    "   a. L=[0, 2, 4, 6, 8]          \n",
    "   b. L=[0, 2, 4, 6, 8, 10]             \n",
    "   c. L=[2, 4, 6, 8, 10]             \n",
    "   d.  L=[2, 3, 4, 5]\n"
   ]
  },
  {
   "cell_type": "raw",
   "metadata": {},
   "source": []
  },
  {
   "cell_type": "code",
   "execution_count": null,
   "metadata": {},
   "outputs": [],
   "source": []
  },
  {
   "cell_type": "markdown",
   "metadata": {},
   "source": [
    "5. Soit le tableau tab = [[0, 2, 4],[5, 6, 7],[ 8, 11, 14]]. La valeur de tab[2][1] est : \n",
    "   \n",
    "   a. 5           \n",
    "   b.  8             \n",
    "   c. 2              \n",
    "   d.  11"
   ]
  },
  {
   "cell_type": "raw",
   "metadata": {},
   "source": []
  },
  {
   "cell_type": "code",
   "execution_count": null,
   "metadata": {},
   "outputs": [],
   "source": []
  },
  {
   "cell_type": "markdown",
   "metadata": {},
   "source": [
    "<b><u>Exercice 3</u></b> : \n",
    "\n",
    "Quelles sont les valeurs des variables a et b ?\n",
    "Vérifier dans l’interpréteur Python.\n",
    "````Python\n",
    "a = ((1,2,3,),(4,5,6),(7,8,9))[1]\n",
    "b = a[2]\n",
    "````"
   ]
  },
  {
   "cell_type": "raw",
   "metadata": {},
   "source": []
  },
  {
   "cell_type": "code",
   "execution_count": null,
   "metadata": {},
   "outputs": [],
   "source": []
  },
  {
   "cell_type": "markdown",
   "metadata": {},
   "source": [
    "<b><u>Exercice 4</u></b> : "
   ]
  },
  {
   "cell_type": "markdown",
   "metadata": {},
   "source": [
    "Exercice 4 : On suppose que n individus constituent un réseau d’amitié.\n",
    "On représentera chaque lien d’amitié en deux individus i et j par un tableau contenant i et j dans un ordre quelconque, c’est à dire par le tableau [i, j] ou par le tableau [j, i] indifféremment.\n",
    "Un réseau social entre n individus sera représenté par un tableau Réseau à deux éléments où :\n",
    "* Réseau[0] : contient le nombre d’individus appartenant au réseau ;\n",
    "* Réseau[1] : le tableau non ordonnée des liens d’amitié déclarés entre les individus.\n",
    "![Voir La feuille d'exercices](TD1-reseau.png)"
   ]
  },
  {
   "cell_type": "raw",
   "metadata": {},
   "source": []
  }
 ],
 "metadata": {
  "kernelspec": {
   "display_name": "Python 3",
   "language": "python",
   "name": "python3"
  },
  "language_info": {
   "codemirror_mode": {
    "name": "ipython",
    "version": 3
   },
   "file_extension": ".py",
   "mimetype": "text/x-python",
   "name": "python",
   "nbconvert_exporter": "python",
   "pygments_lexer": "ipython3",
   "version": "3.7.8"
  }
 },
 "nbformat": 4,
 "nbformat_minor": 4
}
